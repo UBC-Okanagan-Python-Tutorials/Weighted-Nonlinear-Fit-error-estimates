{
 "cells": [
  {
   "cell_type": "code",
   "execution_count": 55,
   "id": "optimum-atlanta",
   "metadata": {},
   "outputs": [],
   "source": [
    "# In this Jupyter notebook we will fit a nonlinear function to a set of experimental\n",
    "# data.  The fit will be weighted by the measurement uncertainties.\n",
    "\n",
    "# In this example, we take data from a series LRC circuit.  For the y-axis\n",
    "# we will have the ratio of the magntidue of the voltage across the\n",
    "# resistance to that supplied by the function generator driving the\n",
    "# circuit.  On the x-axis we will have frequency.\n",
    "\n",
    "# The process will be very similar to the process used to fit a linear function to\n",
    "# a dataset.  The main difference will be in the definition of the model function\n",
    "# that we are fitting to.\n",
    "\n",
    "# Import the NumPy, Matplotlib and SciPy modules\n",
    "import numpy as np\n",
    "import matplotlib.pyplot as plt\n",
    "from scipy.optimize import curve_fit"
   ]
  },
  {
   "cell_type": "code",
   "execution_count": 56,
   "id": "chronic-pricing",
   "metadata": {},
   "outputs": [],
   "source": [
    "# Enter the data as arrays.\n",
    "Vratio= np.array([0.198e-1, 0.67e-1, .117, .185, .331, .450, .573, .689, .718,\\\n",
    "                  .714, .704, .670, .631, .549, .412, .318, .249, .186, .138])\n",
    "errVratio= np.array([0.1e-2, 0.2e-2, 0.3e-2, 0.3e-2, 0.5e-2, 0.6e-2, 0.7e-2,\\\n",
    "                     0.8e-2, 0.8e-2, 0.8e-2, 0.8e-2, 0.8e-2, 0.8e-2, 0.7e-2,\\\n",
    "                     0.6e-2, 0.4e-2, 0.5e-2, 0.3e-2, 0.3e-2])\n",
    "f = np.array([3000, 10000, 15000, 20000, 25000, 28000, 30000, 32000, 33000,\\\n",
    "              34000, 35000, 36000, 37000, 39000, 43000, 47000, 52000, 60000,\\\n",
    "              70000])"
   ]
  },
  {
   "cell_type": "code",
   "execution_count": 57,
   "id": "talented-trailer",
   "metadata": {},
   "outputs": [],
   "source": [
    "# Calculate angular frequency.\n",
    "omega = (2*np.pi*f)"
   ]
  },
  {
   "cell_type": "code",
   "execution_count": 58,
   "id": "municipal-chinese",
   "metadata": {},
   "outputs": [
    {
     "data": {
      "image/png": "[encoded data removed]",
      "text/plain": [
       "<Figure size 432x288 with 1 Axes>"
      ]
     },
     "metadata": {
      "needs_background": "light"
     },
     "output_type": "display_data"
    }
   ],
   "source": [
    "# Plot the data using errorbar(x,y,e).\n",
    "plt.errorbar(omega, Vratio, errVratio, fmt = 'ko', markersize = 5,\\\n",
    "                 linewidth = 1.8,\\\n",
    "                 markeredgecolor = 'b',\\\n",
    "                 markerfacecolor = (.49, 1, .63),\\\n",
    "                 capsize = 5)\n",
    "plt.xlabel('Angular Frequency (rad/s)')\n",
    "plt.ylabel('Voltage Ratio');"
   ]
  },
  {
   "cell_type": "code",
   "execution_count": 59,
   "id": "swedish-latter",
   "metadata": {},
   "outputs": [],
   "source": [
    "# To do the actual fit, we will use the 'curve_fit()' function from the\n",
    "# 'SciPy' module.  This way of fitting is very nice because we\n",
    "# use it for all types of fit models (linear, polynomial, line-in-parameter fits,\n",
    "# and nonlinear fit).  It is capable of doing both unweighted\n",
    "# and weighted fits and it will return uncertainties in the fit parameters.\n",
    "\n",
    "# The first step is to define a function for the model that we will fit our\n",
    "# data to.  In this case, the model is a Lorentzian.\n",
    "\n",
    "# w0 is the resonance frequency\n",
    "# A is the amplitude (height of the resonance peak)\n",
    "# width is the width of the resonance\n",
    "# x represents the independent variable along the horizontal axis\n",
    "# (angular frequency in this case)\n",
    "def LRCFunc(x, A, width, w0):\n",
    "    y = A/np.sqrt(1+(x/width)**2*(1-(w0/x)**2)**2)\n",
    "    return y"
   ]
  },
  {
   "cell_type": "code",
   "execution_count": 60,
   "id": "thorough-johns",
   "metadata": {},
   "outputs": [],
   "source": [
    "# Here is the weighted fit of the nonlinear model to the data.\n",
    "a_fit, cov = curve_fit(LRCFunc, omega, Vratio, sigma = errVratio,\\\n",
    "                       p0 = start, absolute_sigma = True)"
   ]
  },
  {
   "cell_type": "code",
   "execution_count": 61,
   "id": "naval-allergy",
   "metadata": {},
   "outputs": [
    {
     "name": "stdout",
     "output_type": "stream",
     "text": [
      "The best-fit parameters are:      \n",
      " A ± ΔA = 0.7243152456809248 ± 0.003647934113877031 \n",
      " width ± Δwidth = 66816.88081227308 ± 623.0614968262379 \n",
      " w0 ± Δw0 = 213875.00919865974 ± 310.60920671532733\n"
     ]
    }
   ],
   "source": [
    "# Extract the fit parameters and their uncertainties.\n",
    "print('The best-fit parameters are:\\\n",
    "      \\n A \\u00B1 \\u0394A =', a_fit[0], '\\u00B1', np.sqrt(np.diag(cov))[0],\\\n",
    "     '\\n width \\u00B1 \\u0394width =', a_fit[1], '\\u00B1', np.sqrt(np.diag(cov))[1],\\\n",
    "     '\\n w0 \\u00B1 \\u0394w0 =', a_fit[2], '\\u00B1', np.sqrt(np.diag(cov))[2])"
   ]
  },
  {
   "cell_type": "code",
   "execution_count": 62,
   "id": "christian-parade",
   "metadata": {},
   "outputs": [
    {
     "data": {
      "image/png": "[encoded data removed]",
      "text/plain": [
       "<Figure size 432x288 with 1 Axes>"
      ]
     },
     "metadata": {
      "needs_background": "light"
     },
     "output_type": "display_data"
    }
   ],
   "source": [
    "# Plot the data.\n",
    "plt.figure()\n",
    "plt.errorbar(omega, Vratio, errVratio, fmt = 'ko', markersize = 5,\\\n",
    "                 linewidth = 1.8,\\\n",
    "                 markeredgecolor = 'b',\\\n",
    "                 markerfacecolor = 'r',\\\n",
    "                 capsize = 5)\n",
    "plt.xlabel('Angular Frequency (rad/s)')\n",
    "plt.ylabel('Voltage Ratio')\n",
    "\n",
    "# Plot the best-fit line.\n",
    "xx = np.arange(1, 8e5, 100)\n",
    "plt.plot(xx, LRCFunc(xx, a_fit[0], a_fit[1], a_fit[2]), 'k-')\n",
    "plt.axis((0, 4.6e5, 0, 0.75));"
   ]
  },
  {
   "cell_type": "code",
   "execution_count": 63,
   "id": "demonstrated-attack",
   "metadata": {},
   "outputs": [
    {
     "name": "stdout",
     "output_type": "stream",
     "text": [
      "48.14520250462778\n"
     ]
    }
   ],
   "source": [
    "# Let's try to make our own estimates of the uncertainties in the best-fit parameters\n",
    "# using the methods discussed in the PHYS 232 lectures.\n",
    "\n",
    "# Let's give the best-fit parameters some recognizable names.\n",
    "AStar = a_fit[0]\n",
    "widthStar = a_fit[1]\n",
    "w0Star = a_fit[2]\n",
    "\n",
    "# The first step is to calculate the Chi-Squared value using the best-fit parameters\n",
    "# which should correspond to the minimum Chi-Squared value (ChiSqZero).  The 'del w'\n",
    "# notation is used to clear any value previously assigned to w.\n",
    "ChiSq = 0\n",
    "for i in range(len(Vratio)):\n",
    "    w = omega[i]\n",
    "    ChiSq = ChiSq + ((Vratio[i] - LRCFunc(w, AStar, widthStar, w0Star))/errVratio[i])**2\n",
    "ChiSqZero = ChiSq\n",
    "print(ChiSqZero)\n",
    "del w"
   ]
  },
  {
   "cell_type": "code",
   "execution_count": 64,
   "id": "welcome-dependence",
   "metadata": {},
   "outputs": [],
   "source": [
    "# The next step is to vary one of the parameters away from the value that minmizes\n",
    "# ChiSq to see how ChiSq depends on the paramter value.  We expect this variation\n",
    "# to result in a quadratice dependence.  As an example, we'll try finding the\n",
    "# uncertainty in the resonance frequency w0.  Note, however, the same procedure\n",
    "# can be applied to each of the parameters (A, width, w0).\n",
    "\n",
    "# First, pick a suitable step size by which to vary w0.  This may require some\n",
    "# trail and error.\n",
    "w0step = 5e2"
   ]
  },
  {
   "cell_type": "code",
   "execution_count": 65,
   "id": "infectious-france",
   "metadata": {},
   "outputs": [],
   "source": [
    "# Now use nested loops to recalculate ChiSq at many values of w0 that bracket\n",
    "# the best-fit value a_fit[2]\n",
    "steps = 500\n",
    "ChiSqList = []\n",
    "w0List = []\n",
    "for i in range(steps):\n",
    "    w0 = w0Star + (i - steps/2)*w0step \n",
    "    w0List = w0List + [w0]\n",
    "    ChiSq = 0\n",
    "    for j in range(len(Vratio)):\n",
    "        w = omega[j]\n",
    "        ChiSq = ChiSq + ((Vratio[j] - LRCFunc(w, AStar, widthStar, w0))/errVratio[j])**2\n",
    "    ChiSqList = ChiSqList + [ChiSq]\n",
    "    del w"
   ]
  },
  {
   "cell_type": "code",
   "execution_count": 66,
   "id": "extensive-russia",
   "metadata": {},
   "outputs": [
    {
     "data": {
      "image/png": "[encoded data removed]",
      "text/plain": [
       "<Figure size 432x288 with 1 Axes>"
      ]
     },
     "metadata": {
      "needs_background": "light"
     },
     "output_type": "display_data"
    }
   ],
   "source": [
    "# Plot the ChiSq value as a function of w0.\n",
    "plt.plot(w0List, ChiSqList, 'ks', linewidth = 2.5, markersize = 5, fillstyle = 'none');"
   ]
  },
  {
   "cell_type": "code",
   "execution_count": 67,
   "id": "signed-conspiracy",
   "metadata": {},
   "outputs": [
    {
     "data": {
      "image/png": "[encoded data removed]",
      "text/plain": [
       "<Figure size 432x288 with 1 Axes>"
      ]
     },
     "metadata": {
      "needs_background": "light"
     },
     "output_type": "display_data"
    }
   ],
   "source": [
    "# Zoom in near the miniumum to see the quadratic shape near the best-fit value w0Star.\n",
    "plt.plot(w0List, ChiSqList, 'ks', linewidth = 2.5, markersize = 5, fillstyle = 'none')\n",
    "plt.axis((w0Star - 15*w0step, w0Star + 15*w0step, 0, 500));"
   ]
  },
  {
   "cell_type": "code",
   "execution_count": 68,
   "id": "floral-pioneer",
   "metadata": {},
   "outputs": [],
   "source": [
    "# The last step is to characterize the shape of the quadratic dependence:\n",
    "\n",
    "# ChiSq = ChiSqZero + B*(w0 - w0Star)**2\n",
    "\n",
    "# There are three unknowns (ChiSqZero, B, and w0Star).  These could be determined\n",
    "# by fitting the data above to a quadratic finction.  Alternatively, if we pick\n",
    "# three values of w0 near the minimum, we can use the corresponding ChiSq values\n",
    "# determine the unknowns.\n",
    "ChiSq1 = ChiSqList[244]\n",
    "ChiSq2 = ChiSqList[247]\n",
    "ChiSq3 = ChiSqList[250]\n",
    "dw0 = w0List[250] - w0List[247]"
   ]
  },
  {
   "cell_type": "code",
   "execution_count": 69,
   "id": "characteristic-booth",
   "metadata": {},
   "outputs": [
    {
     "name": "stdout",
     "output_type": "stream",
     "text": [
      "w0min = 213865.68039978252\n",
      "Δw0 = 304.59089220406986\n",
      "ChiSqZero = 48.14426447267113\n"
     ]
    }
   ],
   "source": [
    "# The value of w0 that minimizes ChiSq (w0min) is given below as is the\n",
    "# uncertainty in w0min which is determined by how quickly ChiSq increases\n",
    "# as we move away from w0min.  That is, errw0 is determined by the B\n",
    "# coefficient in the quadratic depedence of ChiSq on w0.  The larger the\n",
    "# value of B, the lower the errw0.\n",
    "w0min = w0List[250] - dw0*((ChiSq3 - ChiSq2)/(ChiSq1 - 2*ChiSq2 + ChiSq3) + 1/2)\n",
    "errw0 = np.sqrt(2)*dw0/np.sqrt(ChiSq1 - 2*ChiSq2 + ChiSq3)\n",
    "ChiSqZeroFit = ChiSq3 - (w0List[250] - w0min)**2/errw0**2\n",
    "print('w0min =', w0min)\n",
    "print('\\u0394w0 =', errw0)\n",
    "print('ChiSqZero =', ChiSqZeroFit)"
   ]
  },
  {
   "cell_type": "code",
   "execution_count": null,
   "id": "endangered-shame",
   "metadata": {},
   "outputs": [],
   "source": [
    "# Notice that the extracted value for the uncertainty in w0 is very similar to the value \n",
    "# reported by the 'curve_fit' routine from the scipy.optimize module.\n",
    "\n",
    "# In general, extracting uncertainties in the fit parameters from a nonlinwar fit is\n",
    "# nontrivial.  Above we have given one method for obtaining an estimate if the \n",
    "# uncertainties in the fit parameters.  For more details about uncertainties for\n",
    "# nonlinear fits, see Data Reduction and Error Analysis by Bevington and Robinson\n",
    "# and/or Numerical Receipes in C which you cna obtain and read fro free by visiting\n",
    "# http://www.nrbook.com/a/bookcpdf.php."
   ]
  }
 ],
 "metadata": {
  "kernelspec": {
   "display_name": "Python 3",
   "language": "python",
   "name": "python3"
  },
  "language_info": {
   "codemirror_mode": {
    "name": "ipython",
    "version": 3
   },
   "file_extension": ".py",
   "mimetype": "text/x-python",
   "name": "python",
   "nbconvert_exporter": "python",
   "pygments_lexer": "ipython3",
   "version": "3.8.8"
  }
 },
 "nbformat": 4,
 "nbformat_minor": 5
}
